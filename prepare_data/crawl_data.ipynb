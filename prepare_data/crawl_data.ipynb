{
 "cells": [
  {
   "cell_type": "code",
   "execution_count": null,
   "metadata": {
    "collapsed": true
   },
   "outputs": [],
   "source": [
    "import numpy as np\n",
    "import requests\n",
    "import lxml.html as lh\n",
    "import pandas as pd"
   ]
  },
  {
   "cell_type": "code",
   "execution_count": null,
   "metadata": {
    "collapsed": true
   },
   "outputs": [],
   "source": [
    "def norm_idx(str_idx):\n",
    "    if len(str_idx) < 5:\n",
    "        l_n = 5 - len(str_idx)\n",
    "        s = '0'*l_n + str_idx\n",
    "    else:\n",
    "        s = str_idx\n",
    "    return s\n",
    "norm_idx('1')"
   ]
  },
  {
   "cell_type": "code",
   "execution_count": null,
   "metadata": {
    "collapsed": true
   },
   "outputs": [],
   "source": [
    "ls_idx = np.arange(0, 80000)\n",
    "ls_idx = [norm_idx(str(i)) for i in ls_idx]"
   ]
  },
  {
   "cell_type": "code",
   "execution_count": null,
   "metadata": {
    "collapsed": true
   },
   "outputs": [],
   "source": [
    "ls_idx[:2]"
   ]
  },
  {
   "cell_type": "code",
   "execution_count": null,
   "metadata": {
    "collapsed": true,
    "scrolled": true
   },
   "outputs": [],
   "source": [
    "ls_df = []\n",
    "for idx in ls_idx:\n",
    "    #print(idx)\n",
    "    url='https://thanhnien.vn/ajax/diemthi.aspx?kythi=THPT&nam=2019&city=TPHCM&text=020{}'.format(idx)\n",
    "    try:\n",
    "        #Create a handle, page, to handle the contents of the website\n",
    "        page = requests.get(url)\n",
    "        #Store the contents of the website under doc\n",
    "        doc = lh.fromstring(page.content.decode('utf-8'))\n",
    "        #Parse data that are stored between <tr>..</tr> of HTML\n",
    "        tr_elements = doc.xpath('//tr')\n",
    "\n",
    "        df_name = pd.DataFrame(columns=['name', 'Gender'])\n",
    "        dict_name = dict()\n",
    "        tr_elements = doc.xpath('//tr')\n",
    "        #Create empty list\n",
    "        i=0\n",
    "        #For each row, store each first element (header) and an empty list\n",
    "        for t in tr_elements[0]:\n",
    "            i+=1\n",
    "            name=t.text_content()\n",
    "            dict_name[str(i)] = name\n",
    "            #print( '%s:%s'%(i,name))\n",
    "        df_name['name'] = [dict_name['3']]    query = \"SELECT count(DISTINCT contact_id) FROM autocod_logs where source_created_at BETWEEN '{} 00:00:00' AND '{} 23:59:59' and use_success_predict != true and allow_auto_cod = true and level in ('L8A','L8B');\".format(date, date)\n",
    "        df = psql.read_sql(query, con=db)\n",
    "        df_query['L8_khong_di_vao_ani_va_pass_cod_9'] = list(df.iloc[0])\n",
    "        df_name['Gender'] =[dict_name['6']]\n",
    "\n",
    "        ls_df.append(df_name)\n",
    "    except:\n",
    "        continue"
   ]
  },
  {
   "cell_type": "code",
   "execution_count": null,
   "metadata": {
    "collapsed": true
   },
   "outputs": [],
   "source": [
    "pd.concat(ls_df, axis= 0).shape"
   ]
  },
  {
   "cell_type": "code",
   "execution_count": null,
   "metadata": {
    "collapsed": true
   },
   "outputs": [],
   "source": [
    "df = pd.concat(ls_df, axis= 0)"
   ]
  },
  {
   "cell_type": "code",
   "execution_count": null,
   "metadata": {
    "collapsed": true
   },
   "outputs": [],
   "source": [
    "df.Gender.value_counts()"
   ]
  },
  {
   "cell_type": "code",
   "execution_count": null,
   "metadata": {
    "collapsed": true
   },
   "outputs": [],
   "source": [
    "df = df.drop_duplicates(subset=['name', 'Gender'])"
   ]
  },
  {
   "cell_type": "code",
   "execution_count": null,
   "metadata": {
    "collapsed": true
   },
   "outputs": [],
   "source": [
    "df.shape"
   ]
  },
  {
   "cell_type": "code",
   "execution_count": null,
   "metadata": {
    "collapsed": true
   },
   "outputs": [],
   "source": [
    "df = df.replace(np.nan, '')"
   ]
  },
  {
   "cell_type": "code",
   "execution_count": null,
   "metadata": {
    "collapsed": true
   },
   "outputs": [],
   "source": [
    "df = df[df.name != '']\n",
    "df.shape"
   ]
  },
  {
   "cell_type": "code",
   "execution_count": null,
   "metadata": {
    "collapsed": true
   },
   "outputs": [],
   "source": [
    "df = df.reset_index()\n",
    "df = df.drop('index', axis= 1)"
   ]
  },
  {
   "cell_type": "code",
   "execution_count": null,
   "metadata": {
    "collapsed": true
   },
   "outputs": [],
   "source": [
    "for i in range(df_test.shape[0]):\n",
    "    df_test.loc[i, 'name'] = df_test.loc[i, 'name'].lower()\n",
    "    if df_test.loc[i, 'Gender'].lower() == 'nam':\n",
    "        df_test.loc[i, 'Gender'] = 'male'\n",
    "    else:\n",
    "        df_test.loc[i, 'Gender'] = 'female'"
   ]
  },
  {
   "cell_type": "code",
   "execution_count": null,
   "metadata": {
    "collapsed": true
   },
   "outputs": [],
   "source": [
    "writer = pd.ExcelWriter('data_name_gender_30k.xlsx', engine= 'xlsxwriter')\n",
    "df.to_excel(writer, 'Sheet1', encoding= 'utf-8', index = False)\n",
    "writer.save()"
   ]
  },
  {
   "cell_type": "code",
   "execution_count": null,
   "metadata": {
    "collapsed": true
   },
   "outputs": [],
   "source": []
  },
  {
   "cell_type": "code",
   "execution_count": null,
   "metadata": {
    "collapsed": true
   },
   "outputs": [],
   "source": []
  },
  {
   "cell_type": "markdown",
   "metadata": {},
   "source": [
    "test"
   ]
  },
  {
   "cell_type": "code",
   "execution_count": null,
   "metadata": {
    "collapsed": true
   },
   "outputs": [],
   "source": [
    "url='https://thanhnien.vn/ajax/diemthi.aspx?kythi=THPT&nam=2019&city=TPHCM&text=02070002'\n",
    "#Create a handle, page, to handle the contents of the website\n",
    "page = requests.get(url)\n",
    "#Store the contents of the website under doc\n",
    "doc = lh.fromstring(page.content.decode('utf-8'))\n",
    "#Parse data that are stored between <tr>..</tr> of HTML\n",
    "tr_elements = doc.xpath('//tr')"
   ]
  },
  {
   "cell_type": "code",
   "execution_count": null,
   "metadata": {
    "collapsed": true
   },
   "outputs": [],
   "source": [
    "#Check the length of the first 12 rows\n",
    "[T for T in tr_elements[:12]]"
   ]
  },
  {
   "cell_type": "code",
   "execution_count": null,
   "metadata": {
    "collapsed": true
   },
   "outputs": [],
   "source": [
    "tr_elements = doc.xpath('//tr')"
   ]
  },
  {
   "cell_type": "code",
   "execution_count": null,
   "metadata": {
    "collapsed": true
   },
   "outputs": [],
   "source": [
    "tr_elements[0].text_content()"
   ]
  },
  {
   "cell_type": "code",
   "execution_count": null,
   "metadata": {
    "collapsed": true
   },
   "outputs": [],
   "source": [
    "df_name = pd.DataFrame(columns=['name', 'Gender'])\n",
    "dict_name = dict()\n",
    "tr_elements = doc.xpath('//tr')\n",
    "#Create empty list\n",
    "i=0\n",
    "#For each row, store each first element (header) and an empty list\n",
    "for t in tr_elements[0]:\n",
    "    i+=1\n",
    "    name=t.text_content()\n",
    "    dict_name[str(i)] = name\n",
    "    #print( '%s:%s'%(i,name))\n",
    "df_name['name'] = [dict_name['3']]\n",
    "df_name['Gender'] =[dict_name['6']]"
   ]
  },
  {
   "cell_type": "code",
   "execution_count": null,
   "metadata": {
    "collapsed": true
   },
   "outputs": [],
   "source": [
    "df_name"
   ]
  },
  {
   "cell_type": "code",
   "execution_count": null,
   "metadata": {
    "collapsed": true
   },
   "outputs": [],
   "source": []
  }
 ],
 "metadata": {
  "kernelspec": {
   "display_name": "Python 3",
   "language": "python",
   "name": "python3"
  },
  "language_info": {
   "codemirror_mode": {
    "name": "ipython",
    "version": 3
   },
   "file_extension": ".py",
   "mimetype": "text/x-python",
   "name": "python",
   "nbconvert_exporter": "python",
   "pygments_lexer": "ipython3",
   "version": "3.6.7"
  }
 },
 "nbformat": 4,
 "nbformat_minor": 2
}
